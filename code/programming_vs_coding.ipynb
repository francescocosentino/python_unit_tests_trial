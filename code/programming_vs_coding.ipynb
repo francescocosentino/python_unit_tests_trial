{
 "cells": [
  {
   "cell_type": "markdown",
   "id": "d9a3e5b9",
   "metadata": {},
   "source": [
    "# Programming vs Coding: A Jupyter Notebook Example\n",
    "\n",
    "In this notebook, we illustrate the difference between **programming** and **coding** with a simple task: summing even numbers from a list."
   ]
  },
  {
   "cell_type": "markdown",
   "id": "0862a517",
   "metadata": {},
   "source": [
    "### Programming (Algorithm Design / Pseudocode)\n",
    "\n",
    "1. **Understand the Problem:**\n",
    "   - We need to sum all even numbers from a given list of numbers.\n",
    "\n",
    "2. **Design the Algorithm (Pseudocode):**\n",
    "\n",
    "   ```\n",
    "   FUNCTION sum_even_numbers(list_of_numbers):\n",
    "       SET total TO 0\n",
    "       FOR EACH number IN list_of_numbers:\n",
    "           IF number is even:\n",
    "               ADD number TO total\n",
    "       RETURN total\n",
    "   ```\n",
    "\n",
    "   *Explanation:*  \n",
    "   In this phase, you are **programming** by designing a solution in plain language (or pseudocode) without worrying about the specific syntax of a programming language."
   ]
  },
  {
   "cell_type": "markdown",
   "id": "4317efdc",
   "metadata": {},
   "source": [
    "### Coding (Implementation in Python)\n",
    "\n",
    "Now, we take our pseudocode and **code** it in Python. Below is the implementation:"
   ]
  },
  {
   "cell_type": "code",
   "execution_count": null,
   "id": "9f22e8d1",
   "metadata": {},
   "outputs": [],
   "source": [
    "def sum_even_numbers(numbers):\n",
    "    total = 0\n",
    "    for number in numbers:\n",
    "        if number % 2 == 0:  # Check if the number is even\n",
    "            total += number\n",
    "    return total\n",
    "\n",
    "# Example usage:\n",
    "numbers_list = [1, 2, 3, 4, 5, 6]\n",
    "print(\"Sum of even numbers:\", sum_even_numbers(numbers_list))"
   ]
  }
 ],
 "metadata": {
  "kernelspec": {
   "display_name": "Python 3 (ipykernel)",
   "language": "python",
   "name": "python3"
  },
  "language_info": {
   "codemirror_mode": {
    "name": "ipython",
    "version": 3
   },
   "file_extension": ".py",
   "mimetype": "text/x-python",
   "name": "python",
   "nbconvert_exporter": "python",
   "pygments_lexer": "ipython3",
   "version": "3.11.9"
  }
 },
 "nbformat": 4,
 "nbformat_minor": 5
}
