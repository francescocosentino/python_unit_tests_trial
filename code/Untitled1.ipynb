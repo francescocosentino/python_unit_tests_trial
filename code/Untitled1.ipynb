{
 "cells": [
  {
   "cell_type": "code",
   "execution_count": 4,
   "id": "436c9ae0-0104-4754-952d-4b6a06def382",
   "metadata": {},
   "outputs": [],
   "source": [
    "import re\n",
    "\n",
    "def clean_data_from_file1(file_path):\n",
    "    \"\"\"\n",
    "    Reads a text file and extracts all valid decimal numbers from it.\n",
    "    \n",
    "    A token (word) from the file is only considered a valid number if the entire token matches one\n",
    "    of the following formats:\n",
    "        - An integer, e.g., \"42\", \"-17\", \"+3\"\n",
    "        - A floating-point number with a decimal point, e.g., \"3.14\", \"-0.001\", \".5\", \"+.75\"\n",
    "        \n",
    "    Any token that does not exactly match these formats (even if it begins with a valid number)\n",
    "    is ignored.\n",
    "    \n",
    "    Parameters:\n",
    "        file_path (str): The path to the input text file.\n",
    "    \n",
    "    Returns:\n",
    "        list of float: A list of numbers extracted from the file.\n",
    "    \"\"\"\n",
    "    # This regular expression matches a complete token representing a decimal number.\n",
    "    # Breakdown:\n",
    "    #   [+-]?              -> Optional sign\n",
    "    #   (?:\\d*\\.\\d+|\\d+)   -> Either a floating-point number (allowing an optional integer part)\n",
    "    #                        or an integer.\n",
    "    number_pattern = re.compile(r'[+-]?(?:\\d*\\.\\d+|\\d+)')\n",
    "    \n",
    "    numbers = []\n",
    "    \n",
    "    with open(file_path, 'r') as file:\n",
    "        # Split the file into tokens based on whitespace.\n",
    "        tokens = file.read().split()\n",
    "    \n",
    "    # Check each token to see if it exactly matches our number pattern.\n",
    "    for token in tokens:\n",
    "        # fullmatch ensures the entire token is a valid number.\n",
    "        if number_pattern.fullmatch(token):\n",
    "            numbers.append(float(token))\n",
    "    \n",
    "    return numbers\n",
    "\n",
    "# Example usage:\n"
   ]
  },
  {
   "cell_type": "code",
   "execution_count": 5,
   "id": "27d31f33-98ce-47ab-ad52-66f57d8e6f06",
   "metadata": {},
   "outputs": [
    {
     "name": "stdout",
     "output_type": "stream",
     "text": [
      "[123.0, 456.0, 0.0]\n"
     ]
    }
   ],
   "source": [
    "if __name__ == \"__main__\":\n",
    "    # Replace 'data.txt' with the path to your text file.\n",
    "    file_path = \"data.txt\"\n",
    "    cleaned_numbers = clean_data_from_file1(file_path)\n",
    "    print(cleaned_numbers)"
   ]
  },
  {
   "cell_type": "code",
   "execution_count": null,
   "id": "726ef858-dde9-4d42-bd87-103e1f00c515",
   "metadata": {},
   "outputs": [],
   "source": []
  }
 ],
 "metadata": {
  "kernelspec": {
   "display_name": "Python 3 (ipykernel)",
   "language": "python",
   "name": "python3"
  },
  "language_info": {
   "codemirror_mode": {
    "name": "ipython",
    "version": 3
   },
   "file_extension": ".py",
   "mimetype": "text/x-python",
   "name": "python",
   "nbconvert_exporter": "python",
   "pygments_lexer": "ipython3",
   "version": "3.11.9"
  }
 },
 "nbformat": 4,
 "nbformat_minor": 5
}
