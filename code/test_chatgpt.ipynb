{
 "cells": [
  {
   "cell_type": "code",
   "execution_count": 8,
   "id": "b401ee63-d1fc-4e6e-a717-99b9be96dfe8",
   "metadata": {},
   "outputs": [],
   "source": [
    "import re\n",
    "\n",
    "def clean_data_from_file(file_path):\n",
    "    \"\"\"\n",
    "    Reads a text file and extracts all decimal numbers from it.\n",
    "\n",
    "    The file is assumed to contain numbers in decimal format (e.g., 3.14, -2.718, 42)\n",
    "    interspersed with other text. Any word that does not represent a valid decimal number\n",
    "    is ignored.\n",
    "\n",
    "    Parameters:\n",
    "        file_path (str): The path to the input text file.\n",
    "\n",
    "    Returns:\n",
    "        list of float: A list of numbers extracted from the file.\n",
    "    \"\"\"\n",
    "    # This regular expression matches:\n",
    "    # - Optional sign (+ or -)\n",
    "    # - Either:\n",
    "    #   a) A floating-point number with a decimal point (digits may appear before the point)\n",
    "    #      e.g., -3.14, .5, +0.001\n",
    "    #   b) An integer number\n",
    "    # The pattern is: sign? (digits*.digits+ | digits+)\n",
    "    pattern = r'[-+]?(?:\\d*\\.\\d+|\\d+)'\n",
    "    \n",
    "    # Open and read the file\n",
    "    with open(file_path, 'r') as file:\n",
    "        content = file.read()\n",
    "    \n",
    "    # Find all substrings in the content that match the number pattern.\n",
    "    matches = re.findall(pattern, content)\n",
    "    \n",
    "    # Convert all found matches to floats.\n",
    "    numbers = [float(match) for match in matches]\n",
    "    \n",
    "    return numbers\n",
    "\n",
    "\n"
   ]
  },
  {
   "cell_type": "code",
   "execution_count": 3,
   "id": "7550d8b3-2b41-4c4b-b802-3f3bef684ca5",
   "metadata": {},
   "outputs": [
    {
     "data": {
      "text/plain": [
       "<function __main__.clean_data_from_file(file_path)>"
      ]
     },
     "execution_count": 3,
     "metadata": {},
     "output_type": "execute_result"
    }
   ],
   "source": [
    "clean_data_from_file"
   ]
  },
  {
   "cell_type": "code",
   "execution_count": 9,
   "id": "a5e57c1d-a312-4efa-8e55-e7bd85b75458",
   "metadata": {},
   "outputs": [
    {
     "name": "stdout",
     "output_type": "stream",
     "text": [
      "[123.0, 2.0, 456.0, 2.0, 0.0, 99.0]\n"
     ]
    }
   ],
   "source": [
    "# Example usage:\n",
    "if __name__ == \"__main__\":\n",
    "    file_path = \"data.txt\"  # Replace with your actual file path\n",
    "    cleaned_numbers = clean_data_from_file(file_path)\n",
    "    print(cleaned_numbers)"
   ]
  },
  {
   "cell_type": "code",
   "execution_count": null,
   "id": "b34903ea-6e52-443a-8395-e5d32e8d901c",
   "metadata": {},
   "outputs": [],
   "source": []
  },
  {
   "cell_type": "code",
   "execution_count": null,
   "id": "dcb7500f-5016-4f51-933d-8d74fe7c92c5",
   "metadata": {},
   "outputs": [],
   "source": []
  }
 ],
 "metadata": {
  "kernelspec": {
   "display_name": "Python 3 (ipykernel)",
   "language": "python",
   "name": "python3"
  },
  "language_info": {
   "codemirror_mode": {
    "name": "ipython",
    "version": 3
   },
   "file_extension": ".py",
   "mimetype": "text/x-python",
   "name": "python",
   "nbconvert_exporter": "python",
   "pygments_lexer": "ipython3",
   "version": "3.11.9"
  }
 },
 "nbformat": 4,
 "nbformat_minor": 5
}
